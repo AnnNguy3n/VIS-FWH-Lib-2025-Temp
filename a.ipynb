{
 "cells": [
  {
   "cell_type": "code",
   "execution_count": null,
   "id": "8f5ae16d",
   "metadata": {},
   "outputs": [],
   "source": [
    "from PySources.TKCT_new import filter, Base\n",
    "import pandas as pd\n",
    "import gc\n",
    "\n",
    "df = pd.read_excel(\"HOSE_Field_2025_NoAudited.xlsx\")\n",
    "\n",
    "NAM_ID = 0\n",
    "df = df[df[\"TIME\"] <= 2015 + NAM_ID].reset_index(drop=True)\n",
    "vis = Base(df, 1.06, 5e8)\n",
    "\n",
    "filter(vis, \"/Users/nguyenhuuan/Downloads/Ngn3/f_Ngn3_new_temp.db\", NAM_ID, 10000, 0.21, \"/Users/nguyenhuuan/Desktop/VIS-FWH-Lib-2025/FMLs/Ngn3_NEW\", \"HarNgn3\", \"root\", \"\")\n",
    "gc.collect()"
   ]
  },
  {
   "cell_type": "code",
   "execution_count": null,
   "id": "6417da7e",
   "metadata": {},
   "outputs": [],
   "source": [
    "# import pandas as pd\n",
    "# from PySources.TKCT_detail import get_dfs, Base\n",
    "# import gc\n",
    "\n",
    "# df_origin = pd.read_excel(\"HOSE_Field_2025_NoAudited.xlsx\")\n",
    "# NAM_ID = 0\n",
    "\n",
    "# folders_and_vals = [\n",
    "#     (\"FMLs/Ngn1\", \"Val1\"),\n",
    "#     (\"FMLs/Ngn1_1525\", \"Val1\"),\n",
    "#     (\"FMLs/Ngn2\", \"Val2\"),\n",
    "#     (\"FMLs/Ngn2_1525\", \"Val2\"),\n",
    "#     (\"FMLs/Ngn3\", \"Val3\"),\n",
    "#     (\"FMLs/Ngn3_1525\", \"Val3\"),\n",
    "# ]\n",
    "\n",
    "# for FOLDER, Val in folders_and_vals:\n",
    "#     NAM_ID = 10 - NAM_ID\n",
    "#     if \"1525\" in FOLDER and NAM_ID == 0:\n",
    "#         continue\n",
    "\n",
    "#     with open(f\"{FOLDER}/{NAM_ID}.txt\", \"r\") as f:\n",
    "#         list_ct = f.read().splitlines()\n",
    "\n",
    "#     df = df_origin[df_origin[\"TIME\"] <= 2015 + NAM_ID]\n",
    "#     df_info, df_sum_rank = get_dfs(Base(df, 1.06, 5e8), list_ct, Val, eval_method=\"root\")\n",
    "#     df_info.to_csv(f\"{FOLDER}/{2015 + NAM_ID}.csv\", index=False)\n",
    "#     df_sum_rank.to_csv(f\"{FOLDER}/SUM_RANK_{2015 + NAM_ID}.csv\", index=False)\n",
    "#     gc.collect()"
   ]
  }
 ],
 "metadata": {
  "kernelspec": {
   "display_name": "Python 3",
   "language": "python",
   "name": "python3"
  },
  "language_info": {
   "codemirror_mode": {
    "name": "ipython",
    "version": 3
   },
   "file_extension": ".py",
   "mimetype": "text/x-python",
   "name": "python",
   "nbconvert_exporter": "python",
   "pygments_lexer": "ipython3",
   "version": "3.10.10"
  }
 },
 "nbformat": 4,
 "nbformat_minor": 5
}
